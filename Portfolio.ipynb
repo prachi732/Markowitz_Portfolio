{
  "nbformat": 4,
  "nbformat_minor": 0,
  "metadata": {
    "colab": {
      "name": "Untitled14.ipynb",
      "provenance": [],
      "authorship_tag": "ABX9TyOyZkqJG7SQZeY0gRkoOdOz",
      "include_colab_link": true
    },
    "kernelspec": {
      "name": "python3",
      "display_name": "Python 3"
    }
  },
  "cells": [
    {
      "cell_type": "markdown",
      "metadata": {
        "id": "view-in-github",
        "colab_type": "text"
      },
      "source": [
        "<a href=\"https://colab.research.google.com/github/prachi732/Markowitz_Portfolio/blob/master/Portfolio.ipynb\" target=\"_parent\"><img src=\"https://colab.research.google.com/assets/colab-badge.svg\" alt=\"Open In Colab\"/></a>"
      ]
    },
    {
      "cell_type": "code",
      "metadata": {
        "id": "x75v1zltuJYY",
        "colab_type": "code",
        "colab": {}
      },
      "source": [
        "import numpy as np\n",
        "import pandas as pd\n",
        "from pandas_datareader import data as wb\n",
        "import matplotlib.pyplot as plt\n",
        "%matplotlib inline"
      ],
      "execution_count": 0,
      "outputs": []
    },
    {
      "cell_type": "code",
      "metadata": {
        "id": "KzwCdSZxudpn",
        "colab_type": "code",
        "colab": {}
      },
      "source": [
        "assets=['PG','^GSPC']\n",
        "pf_data=pd.DataFrame()\n",
        "for a in assets:\n",
        "  pf_data[a]=wb.DataReader(a,data_source='yahoo',start='2010-1-1')['Adj Close']"
      ],
      "execution_count": 0,
      "outputs": []
    },
    {
      "cell_type": "code",
      "metadata": {
        "id": "sxbDbgEZvFNl",
        "colab_type": "code",
        "colab": {
          "base_uri": "https://localhost:8080/",
          "height": 235
        },
        "outputId": "7140ecb4-1a24-43ff-f9e4-876564e8f738"
      },
      "source": [
        "pf_data.tail()"
      ],
      "execution_count": 4,
      "outputs": [
        {
          "output_type": "execute_result",
          "data": {
            "text/html": [
              "<div>\n",
              "<style scoped>\n",
              "    .dataframe tbody tr th:only-of-type {\n",
              "        vertical-align: middle;\n",
              "    }\n",
              "\n",
              "    .dataframe tbody tr th {\n",
              "        vertical-align: top;\n",
              "    }\n",
              "\n",
              "    .dataframe thead th {\n",
              "        text-align: right;\n",
              "    }\n",
              "</style>\n",
              "<table border=\"1\" class=\"dataframe\">\n",
              "  <thead>\n",
              "    <tr style=\"text-align: right;\">\n",
              "      <th></th>\n",
              "      <th>PG</th>\n",
              "      <th>^GSPC</th>\n",
              "    </tr>\n",
              "    <tr>\n",
              "      <th>Date</th>\n",
              "      <th></th>\n",
              "      <th></th>\n",
              "    </tr>\n",
              "  </thead>\n",
              "  <tbody>\n",
              "    <tr>\n",
              "      <th>2020-05-29</th>\n",
              "      <td>115.919998</td>\n",
              "      <td>3044.310059</td>\n",
              "    </tr>\n",
              "    <tr>\n",
              "      <th>2020-06-01</th>\n",
              "      <td>117.250000</td>\n",
              "      <td>3055.729980</td>\n",
              "    </tr>\n",
              "    <tr>\n",
              "      <th>2020-06-02</th>\n",
              "      <td>118.059998</td>\n",
              "      <td>3080.820068</td>\n",
              "    </tr>\n",
              "    <tr>\n",
              "      <th>2020-06-03</th>\n",
              "      <td>118.529999</td>\n",
              "      <td>3122.870117</td>\n",
              "    </tr>\n",
              "    <tr>\n",
              "      <th>2020-06-04</th>\n",
              "      <td>116.050003</td>\n",
              "      <td>3112.350098</td>\n",
              "    </tr>\n",
              "  </tbody>\n",
              "</table>\n",
              "</div>"
            ],
            "text/plain": [
              "                    PG        ^GSPC\n",
              "Date                               \n",
              "2020-05-29  115.919998  3044.310059\n",
              "2020-06-01  117.250000  3055.729980\n",
              "2020-06-02  118.059998  3080.820068\n",
              "2020-06-03  118.529999  3122.870117\n",
              "2020-06-04  116.050003  3112.350098"
            ]
          },
          "metadata": {
            "tags": []
          },
          "execution_count": 4
        }
      ]
    },
    {
      "cell_type": "code",
      "metadata": {
        "id": "8fPtaCBrvJsC",
        "colab_type": "code",
        "colab": {
          "base_uri": "https://localhost:8080/",
          "height": 433
        },
        "outputId": "cde905fc-6400-450a-cb82-027b7bffe46b"
      },
      "source": [
        "(pf_data/pf_data.iloc[0]*100).plot(figsize=(10,7))"
      ],
      "execution_count": 5,
      "outputs": [
        {
          "output_type": "execute_result",
          "data": {
            "text/plain": [
              "<matplotlib.axes._subplots.AxesSubplot at 0x7fc2f89b4ef0>"
            ]
          },
          "metadata": {
            "tags": []
          },
          "execution_count": 5
        },
        {
          "output_type": "display_data",
          "data": {
            "image/png": "[encoded data removed]",
            "text/plain": [
              "<Figure size 720x504 with 1 Axes>"
            ]
          },
          "metadata": {
            "tags": [],
            "needs_background": "light"
          }
        }
      ]
    },
    {
      "cell_type": "code",
      "metadata": {
        "id": "1RO3trZuvkTU",
        "colab_type": "code",
        "colab": {}
      },
      "source": [
        "log_returns=np.log(pf_data/pf_data.shift(1))"
      ],
      "execution_count": 0,
      "outputs": []
    },
    {
      "cell_type": "code",
      "metadata": {
        "id": "01xqFsJIvtrU",
        "colab_type": "code",
        "colab": {
          "base_uri": "https://localhost:8080/",
          "height": 68
        },
        "outputId": "7a917b91-8e12-4b3e-e5da-c79e21af702d"
      },
      "source": [
        "log_returns.mean()*250"
      ],
      "execution_count": 7,
      "outputs": [
        {
          "output_type": "execute_result",
          "data": {
            "text/plain": [
              "PG       0.092352\n",
              "^GSPC    0.096350\n",
              "dtype: float64"
            ]
          },
          "metadata": {
            "tags": []
          },
          "execution_count": 7
        }
      ]
    },
    {
      "cell_type": "code",
      "metadata": {
        "id": "paY49b8bv0Mv",
        "colab_type": "code",
        "colab": {
          "base_uri": "https://localhost:8080/",
          "height": 111
        },
        "outputId": "b803ccbc-58a9-42f5-f305-fc86e554b0a5"
      },
      "source": [
        "log_returns.cov()*250"
      ],
      "execution_count": 8,
      "outputs": [
        {
          "output_type": "execute_result",
          "data": {
            "text/html": [
              "<div>\n",
              "<style scoped>\n",
              "    .dataframe tbody tr th:only-of-type {\n",
              "        vertical-align: middle;\n",
              "    }\n",
              "\n",
              "    .dataframe tbody tr th {\n",
              "        vertical-align: top;\n",
              "    }\n",
              "\n",
              "    .dataframe thead th {\n",
              "        text-align: right;\n",
              "    }\n",
              "</style>\n",
              "<table border=\"1\" class=\"dataframe\">\n",
              "  <thead>\n",
              "    <tr style=\"text-align: right;\">\n",
              "      <th></th>\n",
              "      <th>PG</th>\n",
              "      <th>^GSPC</th>\n",
              "    </tr>\n",
              "  </thead>\n",
              "  <tbody>\n",
              "    <tr>\n",
              "      <th>PG</th>\n",
              "      <td>0.029529</td>\n",
              "      <td>0.017840</td>\n",
              "    </tr>\n",
              "    <tr>\n",
              "      <th>^GSPC</th>\n",
              "      <td>0.017840</td>\n",
              "      <td>0.030276</td>\n",
              "    </tr>\n",
              "  </tbody>\n",
              "</table>\n",
              "</div>"
            ],
            "text/plain": [
              "             PG     ^GSPC\n",
              "PG     0.029529  0.017840\n",
              "^GSPC  0.017840  0.030276"
            ]
          },
          "metadata": {
            "tags": []
          },
          "execution_count": 8
        }
      ]
    },
    {
      "cell_type": "code",
      "metadata": {
        "id": "N0xBAKBmv-kb",
        "colab_type": "code",
        "colab": {
          "base_uri": "https://localhost:8080/",
          "height": 111
        },
        "outputId": "4d38c696-d404-4ee5-fcd9-376c5faab185"
      },
      "source": [
        "log_returns.corr()"
      ],
      "execution_count": 9,
      "outputs": [
        {
          "output_type": "execute_result",
          "data": {
            "text/html": [
              "<div>\n",
              "<style scoped>\n",
              "    .dataframe tbody tr th:only-of-type {\n",
              "        vertical-align: middle;\n",
              "    }\n",
              "\n",
              "    .dataframe tbody tr th {\n",
              "        vertical-align: top;\n",
              "    }\n",
              "\n",
              "    .dataframe thead th {\n",
              "        text-align: right;\n",
              "    }\n",
              "</style>\n",
              "<table border=\"1\" class=\"dataframe\">\n",
              "  <thead>\n",
              "    <tr style=\"text-align: right;\">\n",
              "      <th></th>\n",
              "      <th>PG</th>\n",
              "      <th>^GSPC</th>\n",
              "    </tr>\n",
              "  </thead>\n",
              "  <tbody>\n",
              "    <tr>\n",
              "      <th>PG</th>\n",
              "      <td>1.000000</td>\n",
              "      <td>0.596642</td>\n",
              "    </tr>\n",
              "    <tr>\n",
              "      <th>^GSPC</th>\n",
              "      <td>0.596642</td>\n",
              "      <td>1.000000</td>\n",
              "    </tr>\n",
              "  </tbody>\n",
              "</table>\n",
              "</div>"
            ],
            "text/plain": [
              "             PG     ^GSPC\n",
              "PG     1.000000  0.596642\n",
              "^GSPC  0.596642  1.000000"
            ]
          },
          "metadata": {
            "tags": []
          },
          "execution_count": 9
        }
      ]
    },
    {
      "cell_type": "code",
      "metadata": {
        "id": "5b5gwM0Uwp4B",
        "colab_type": "code",
        "colab": {
          "base_uri": "https://localhost:8080/",
          "height": 34
        },
        "outputId": "b3dbb8a9-7447-44e0-bbd3-1d53dbe05931"
      },
      "source": [
        "num_assets=len(assets)\n",
        "num_assets"
      ],
      "execution_count": 11,
      "outputs": [
        {
          "output_type": "execute_result",
          "data": {
            "text/plain": [
              "2"
            ]
          },
          "metadata": {
            "tags": []
          },
          "execution_count": 11
        }
      ]
    },
    {
      "cell_type": "code",
      "metadata": {
        "id": "b4Hqj0_qyA0o",
        "colab_type": "code",
        "colab": {
          "base_uri": "https://localhost:8080/",
          "height": 34
        },
        "outputId": "f3941da0-8821-429a-de48-432aa0f07aa8"
      },
      "source": [
        "# Creating two random weights\n",
        "arr=np.random.random(2)\n",
        "arr"
      ],
      "execution_count": 19,
      "outputs": [
        {
          "output_type": "execute_result",
          "data": {
            "text/plain": [
              "array([0.44187109, 0.82681793])"
            ]
          },
          "metadata": {
            "tags": []
          },
          "execution_count": 19
        }
      ]
    },
    {
      "cell_type": "code",
      "metadata": {
        "id": "kkE9mETfyJYg",
        "colab_type": "code",
        "colab": {
          "base_uri": "https://localhost:8080/",
          "height": 34
        },
        "outputId": "8e8747ef-cfb8-4131-e163-40d2658e52d7"
      },
      "source": [
        "# To make the weights equal to 1\n",
        "weights=np.random.random(num_assets)\n",
        "weights/=np.sum(weights)\n",
        "weights"
      ],
      "execution_count": 22,
      "outputs": [
        {
          "output_type": "execute_result",
          "data": {
            "text/plain": [
              "array([0.66752484, 0.33247516])"
            ]
          },
          "metadata": {
            "tags": []
          },
          "execution_count": 22
        }
      ]
    },
    {
      "cell_type": "code",
      "metadata": {
        "id": "ybxN8CmQzCNE",
        "colab_type": "code",
        "colab": {
          "base_uri": "https://localhost:8080/",
          "height": 34
        },
        "outputId": "a2fc44d7-0f77-417a-f360-9c8d80398d4d"
      },
      "source": [
        "weights[0]+weights[1]"
      ],
      "execution_count": 23,
      "outputs": [
        {
          "output_type": "execute_result",
          "data": {
            "text/plain": [
              "1.0"
            ]
          },
          "metadata": {
            "tags": []
          },
          "execution_count": 23
        }
      ]
    },
    {
      "cell_type": "markdown",
      "metadata": {
        "id": "pnTg0gCezmI3",
        "colab_type": "text"
      },
      "source": [
        "**Expected Portfolio Return**"
      ]
    },
    {
      "cell_type": "code",
      "metadata": {
        "id": "rJUx6T2IzTqT",
        "colab_type": "code",
        "colab": {
          "base_uri": "https://localhost:8080/",
          "height": 34
        },
        "outputId": "3bc7a216-4f38-42fa-9b79-cceb5dd9608c"
      },
      "source": [
        "# w1r1+w2r2\n",
        "np.sum(weights*log_returns.mean())*250"
      ],
      "execution_count": 24,
      "outputs": [
        {
          "output_type": "execute_result",
          "data": {
            "text/plain": [
              "0.09368149948433795"
            ]
          },
          "metadata": {
            "tags": []
          },
          "execution_count": 24
        }
      ]
    },
    {
      "cell_type": "markdown",
      "metadata": {
        "id": "04arPSea0Dkx",
        "colab_type": "text"
      },
      "source": [
        "**Expected Portfoio Variance**"
      ]
    },
    {
      "cell_type": "code",
      "metadata": {
        "id": "ELXJAaln0B8f",
        "colab_type": "code",
        "colab": {
          "base_uri": "https://localhost:8080/",
          "height": 34
        },
        "outputId": "a599479f-1b78-4e1c-8ff1-6204b83f3931"
      },
      "source": [
        "np.dot(weights.T,np.dot(log_returns.cov()*250,weights))"
      ],
      "execution_count": 25,
      "outputs": [
        {
          "output_type": "execute_result",
          "data": {
            "text/plain": [
              "0.024422983717109558"
            ]
          },
          "metadata": {
            "tags": []
          },
          "execution_count": 25
        }
      ]
    },
    {
      "cell_type": "markdown",
      "metadata": {
        "id": "5B9T2Wtw1AM2",
        "colab_type": "text"
      },
      "source": [
        "**Expected Portfolio Volatility**"
      ]
    },
    {
      "cell_type": "code",
      "metadata": {
        "id": "kL2PKyQV09kO",
        "colab_type": "code",
        "colab": {
          "base_uri": "https://localhost:8080/",
          "height": 34
        },
        "outputId": "538aa725-5c3a-4a27-ff77-d00ed2cb0fa5"
      },
      "source": [
        "np.sqrt(np.dot(weights.T,np.dot(log_returns.cov()*250,weights)))"
      ],
      "execution_count": 26,
      "outputs": [
        {
          "output_type": "execute_result",
          "data": {
            "text/plain": [
              "0.15627854528728363"
            ]
          },
          "metadata": {
            "tags": []
          },
          "execution_count": 26
        }
      ]
    },
    {
      "cell_type": "code",
      "metadata": {
        "id": "YxbYyWwb1brZ",
        "colab_type": "code",
        "colab": {
          "base_uri": "https://localhost:8080/",
          "height": 1000
        },
        "outputId": "55bb1539-8eb2-4512-8956-bd25f251b3a8"
      },
      "source": [
        "# Creating a combination of 1000 different weights\n",
        "pfolio_returns=[]\n",
        "pfolio_volatilities=[]\n",
        "for x in range(1000):\n",
        "  weights=np.random.random(num_assets)\n",
        "  weights/=np.sum(weights)\n",
        "  pfolio_returns.append(np.sum(weights*log_returns.mean())*250)\n",
        "  pfolio_volatilities.append(np.sqrt(np.dot(weights.T,np.dot(log_returns.cov()*250,weights))))\n",
        "pfolio_returns=np.array(pfolio_returns)\n",
        "pfolio_volatilities=np.array(pfolio_volatilities)\n",
        "pfolio_returns,pfolio_volatilities"
      ],
      "execution_count": 27,
      "outputs": [
        {
          "output_type": "execute_result",
          "data": {
            "text/plain": [
              "(array([0.09536117, 0.0940531 , 0.09405171, 0.09607513, 0.09399077,\n",
              "        0.09526734, 0.0924176 , 0.09622927, 0.09456387, 0.09602918,\n",
              "        0.09434096, 0.09353758, 0.09368484, 0.09600385, 0.09528979,\n",
              "        0.09561534, 0.0939338 , 0.09361118, 0.09454493, 0.09551691,\n",
              "        0.09623761, 0.09476314, 0.09536411, 0.09533174, 0.09421334,\n",
              "        0.09609   , 0.09402897, 0.0940979 , 0.09262609, 0.09332673,\n",
              "        0.09405268, 0.09463167, 0.09413697, 0.09438401, 0.09298008,\n",
              "        0.09435053, 0.09601557, 0.09554323, 0.09503299, 0.09394562,\n",
              "        0.09346711, 0.09427743, 0.0938251 , 0.09437542, 0.09530304,\n",
              "        0.09395996, 0.09272569, 0.0941102 , 0.0957782 , 0.09528086,\n",
              "        0.09368726, 0.09625675, 0.09428442, 0.09385211, 0.09383418,\n",
              "        0.09402141, 0.09611221, 0.09409782, 0.09464936, 0.09514132,\n",
              "        0.09506962, 0.09515531, 0.09472926, 0.09364902, 0.09245225,\n",
              "        0.09479437, 0.09535904, 0.09538423, 0.09421105, 0.09498671,\n",
              "        0.09421718, 0.09297236, 0.09460839, 0.09361767, 0.09614858,\n",
              "        0.09419682, 0.09325409, 0.09490797, 0.09371509, 0.09433119,\n",
              "        0.09300109, 0.09372331, 0.09563777, 0.09410136, 0.09608821,\n",
              "        0.09514883, 0.09420862, 0.09383013, 0.09500045, 0.09483726,\n",
              "        0.09258775, 0.09420577, 0.09383311, 0.09443207, 0.0936483 ,\n",
              "        0.09366046, 0.09370614, 0.0927574 , 0.09380198, 0.09480999,\n",
              "        0.0952166 , 0.09283789, 0.09412511, 0.09614471, 0.0961459 ,\n",
              "        0.09357495, 0.09357867, 0.09235604, 0.09466841, 0.09436608,\n",
              "        0.09261461, 0.09535364, 0.09312487, 0.09542442, 0.09484731,\n",
              "        0.09430614, 0.09467637, 0.09391748, 0.09393968, 0.09350902,\n",
              "        0.09559019, 0.09536926, 0.09344525, 0.09487375, 0.09558495,\n",
              "        0.09389144, 0.09430849, 0.09430907, 0.09302572, 0.09467426,\n",
              "        0.09454218, 0.09370216, 0.09380508, 0.09414129, 0.09271579,\n",
              "        0.09365443, 0.09595488, 0.09397621, 0.09556787, 0.09392411,\n",
              "        0.09399671, 0.09397087, 0.09507901, 0.09276167, 0.0931293 ,\n",
              "        0.09336789, 0.09373616, 0.09433198, 0.09513568, 0.09303112,\n",
              "        0.09307973, 0.09486415, 0.09392925, 0.09488455, 0.09451542,\n",
              "        0.09465694, 0.09238341, 0.09436739, 0.09419686, 0.09515579,\n",
              "        0.09440268, 0.09453966, 0.09603884, 0.09435698, 0.09373496,\n",
              "        0.09490256, 0.09624223, 0.09365295, 0.09564524, 0.09421185,\n",
              "        0.09437142, 0.09541501, 0.09429035, 0.0962012 , 0.09483235,\n",
              "        0.09423266, 0.09362941, 0.09480828, 0.09494858, 0.09421555,\n",
              "        0.09236934, 0.0931007 , 0.09378533, 0.09540839, 0.09503836,\n",
              "        0.09275049, 0.09494892, 0.09379104, 0.09470832, 0.09417361,\n",
              "        0.09378995, 0.09570792, 0.09342112, 0.09596106, 0.09487071,\n",
              "        0.09345854, 0.09440123, 0.09267497, 0.09407957, 0.09513002,\n",
              "        0.09453757, 0.0943132 , 0.09395902, 0.0935418 , 0.09244978,\n",
              "        0.09562235, 0.09344282, 0.09426489, 0.09378211, 0.09441889,\n",
              "        0.09514766, 0.09551641, 0.09483587, 0.09467492, 0.09292172,\n",
              "        0.09467903, 0.09370583, 0.09296117, 0.0930658 , 0.09470927,\n",
              "        0.0931188 , 0.09312588, 0.09523399, 0.09588022, 0.09566093,\n",
              "        0.09277875, 0.09441199, 0.0949857 , 0.09419699, 0.09360698,\n",
              "        0.09430792, 0.09370846, 0.0942667 , 0.09522368, 0.09560876,\n",
              "        0.09409361, 0.09397799, 0.09479679, 0.09292213, 0.09304829,\n",
              "        0.09393991, 0.09615109, 0.09526338, 0.09283021, 0.09469649,\n",
              "        0.09515306, 0.09577554, 0.09337586, 0.09362929, 0.09541277,\n",
              "        0.09383216, 0.09428865, 0.0930975 , 0.09441879, 0.09494153,\n",
              "        0.09528621, 0.0938425 , 0.09364981, 0.09390571, 0.09354929,\n",
              "        0.09424706, 0.0947144 , 0.09553025, 0.09409943, 0.09490354,\n",
              "        0.09467289, 0.0952312 , 0.094988  , 0.0941288 , 0.09424518,\n",
              "        0.09431682, 0.09481878, 0.09402184, 0.09290301, 0.09549098,\n",
              "        0.09472519, 0.09399311, 0.09397182, 0.09548195, 0.09584993,\n",
              "        0.09632396, 0.09404957, 0.09464684, 0.09367119, 0.09404861,\n",
              "        0.09370054, 0.09499579, 0.09305589, 0.09312717, 0.09441672,\n",
              "        0.09326269, 0.09367237, 0.09401207, 0.0945001 , 0.09388312,\n",
              "        0.09351084, 0.09601264, 0.09495918, 0.09484033, 0.09243495,\n",
              "        0.09417511, 0.09430604, 0.09419129, 0.09363969, 0.09324476,\n",
              "        0.09336927, 0.09245896, 0.09417968, 0.09508929, 0.09571002,\n",
              "        0.09405764, 0.09512022, 0.09453343, 0.09551791, 0.09327937,\n",
              "        0.09401538, 0.09432899, 0.094087  , 0.09262954, 0.092704  ,\n",
              "        0.09439842, 0.09618063, 0.09296706, 0.09491984, 0.09481579,\n",
              "        0.0942796 , 0.09523772, 0.09385705, 0.09281155, 0.09437519,\n",
              "        0.09541811, 0.09605978, 0.09330024, 0.09477233, 0.09412391,\n",
              "        0.09552449, 0.09499259, 0.09562364, 0.09529902, 0.0933656 ,\n",
              "        0.09501406, 0.09317761, 0.095169  , 0.09485533, 0.09607252,\n",
              "        0.09445521, 0.09310671, 0.09252373, 0.09342552, 0.09318513,\n",
              "        0.09500999, 0.09408626, 0.09412005, 0.09614739, 0.09401032,\n",
              "        0.09360562, 0.0945535 , 0.0928607 , 0.093356  , 0.09319026,\n",
              "        0.09332923, 0.09529396, 0.09499203, 0.09448381, 0.09559397,\n",
              "        0.09442455, 0.09495763, 0.09451833, 0.09478039, 0.09292657,\n",
              "        0.09328426, 0.09508564, 0.0946553 , 0.09244377, 0.09610647,\n",
              "        0.09503208, 0.09433605, 0.0948802 , 0.09477745, 0.09300543,\n",
              "        0.09366945, 0.095068  , 0.09526351, 0.09409567, 0.09273583,\n",
              "        0.0947071 , 0.09456518, 0.09430768, 0.09541689, 0.09531731,\n",
              "        0.09442086, 0.09531376, 0.09398304, 0.09367345, 0.09392435,\n",
              "        0.0944936 , 0.09474339, 0.09426418, 0.09359454, 0.09619706,\n",
              "        0.09377878, 0.09417094, 0.0932889 , 0.09487907, 0.09546195,\n",
              "        0.09320771, 0.09363981, 0.09493797, 0.09487018, 0.09345004,\n",
              "        0.09440801, 0.09545865, 0.0945039 , 0.09387108, 0.09619901,\n",
              "        0.09632564, 0.09294855, 0.0928801 , 0.09598355, 0.09302782,\n",
              "        0.09404673, 0.0932396 , 0.0944399 , 0.09553808, 0.09463249,\n",
              "        0.09443069, 0.09403811, 0.09623503, 0.09404225, 0.09375871,\n",
              "        0.09250385, 0.09336298, 0.0925639 , 0.09520587, 0.09500849,\n",
              "        0.0949297 , 0.09235278, 0.09297413, 0.09484399, 0.09285777,\n",
              "        0.09496092, 0.09372893, 0.09266506, 0.0945016 , 0.09468517,\n",
              "        0.09392714, 0.09259228, 0.09569048, 0.09356462, 0.09448007,\n",
              "        0.09520391, 0.09536425, 0.09557458, 0.09419942, 0.09385267,\n",
              "        0.09462583, 0.0928635 , 0.09446569, 0.09400609, 0.09389062,\n",
              "        0.0955567 , 0.09393109, 0.09436885, 0.09268062, 0.09470335,\n",
              "        0.09374491, 0.09355497, 0.09573757, 0.09589116, 0.09532466,\n",
              "        0.0942533 , 0.0956157 , 0.09580835, 0.09331136, 0.09546187,\n",
              "        0.09438689, 0.09464788, 0.09262695, 0.09422883, 0.0927366 ,\n",
              "        0.0943696 , 0.09289622, 0.09457933, 0.09440145, 0.09366701,\n",
              "        0.09454681, 0.09612186, 0.09441952, 0.09540956, 0.09559167,\n",
              "        0.09428446, 0.09443078, 0.09283993, 0.09412982, 0.0940932 ,\n",
              "        0.09407878, 0.09511158, 0.09445231, 0.09318114, 0.09402506,\n",
              "        0.09285969, 0.09516078, 0.09331762, 0.09262482, 0.09434361,\n",
              "        0.09447959, 0.09438611, 0.09523306, 0.09439173, 0.09253134,\n",
              "        0.09478051, 0.0951672 , 0.09424083, 0.09437328, 0.09313684,\n",
              "        0.09621955, 0.09346347, 0.09569416, 0.09470099, 0.09530483,\n",
              "        0.09551361, 0.09341024, 0.09379915, 0.09506037, 0.09471868,\n",
              "        0.09488684, 0.09289604, 0.09399556, 0.09488326, 0.09380148,\n",
              "        0.09471878, 0.09524677, 0.09344703, 0.09491443, 0.09540121,\n",
              "        0.0929703 , 0.09324601, 0.09469699, 0.09562991, 0.09337464,\n",
              "        0.09483957, 0.09301076, 0.0931296 , 0.09492337, 0.09440629,\n",
              "        0.0939664 , 0.09393067, 0.09343186, 0.09438273, 0.09321893,\n",
              "        0.09521547, 0.09363155, 0.0931249 , 0.0958469 , 0.09545703,\n",
              "        0.09558448, 0.09403512, 0.09334897, 0.09431341, 0.09354763,\n",
              "        0.09634832, 0.09492756, 0.0937254 , 0.0936804 , 0.09442819,\n",
              "        0.09451079, 0.09503302, 0.09462556, 0.09440918, 0.09397676,\n",
              "        0.09416468, 0.09502775, 0.09506269, 0.09438903, 0.09462338,\n",
              "        0.09531449, 0.09243536, 0.0949036 , 0.09510454, 0.09513972,\n",
              "        0.09429762, 0.0940317 , 0.09439821, 0.09444676, 0.09556228,\n",
              "        0.09286991, 0.09429792, 0.09455519, 0.09376234, 0.09342677,\n",
              "        0.09534326, 0.09287262, 0.0939358 , 0.09528303, 0.09320825,\n",
              "        0.09442539, 0.09381419, 0.09451196, 0.09333437, 0.09405736,\n",
              "        0.09450528, 0.09504029, 0.09464234, 0.09586688, 0.0947783 ,\n",
              "        0.09408711, 0.09402135, 0.09419294, 0.09374472, 0.09449249,\n",
              "        0.09345689, 0.09633305, 0.095597  , 0.09288293, 0.09348067,\n",
              "        0.09457226, 0.09571025, 0.09501666, 0.0937869 , 0.09595019,\n",
              "        0.09463419, 0.09502428, 0.09294513, 0.09390923, 0.09456333,\n",
              "        0.09241858, 0.09423053, 0.09448888, 0.09343151, 0.09354335,\n",
              "        0.0941667 , 0.09254456, 0.09624633, 0.095643  , 0.09377951,\n",
              "        0.09348413, 0.09348368, 0.09277083, 0.09404294, 0.09535016,\n",
              "        0.09573975, 0.09344917, 0.09311609, 0.09322833, 0.09625856,\n",
              "        0.09452248, 0.09270822, 0.09529498, 0.09354598, 0.09359914,\n",
              "        0.09507066, 0.09337201, 0.09567676, 0.09300859, 0.09410044,\n",
              "        0.09271995, 0.09266901, 0.09420594, 0.09377091, 0.09481987,\n",
              "        0.09369848, 0.09474925, 0.09429041, 0.0935906 , 0.09413536,\n",
              "        0.09512249, 0.09366341, 0.09340971, 0.09411316, 0.09237449,\n",
              "        0.0938475 , 0.09529026, 0.09597761, 0.0933038 , 0.09316384,\n",
              "        0.09461452, 0.09591728, 0.09357033, 0.09499211, 0.09398573,\n",
              "        0.09441315, 0.09339592, 0.09419328, 0.09421459, 0.09446987,\n",
              "        0.09482943, 0.09260402, 0.0957061 , 0.09561103, 0.09401242,\n",
              "        0.09362409, 0.09287362, 0.09438464, 0.09292894, 0.09302524,\n",
              "        0.09454158, 0.09535395, 0.09496684, 0.09545562, 0.09351836,\n",
              "        0.09501555, 0.09521739, 0.09336175, 0.09269378, 0.09379491,\n",
              "        0.0946698 , 0.09495224, 0.09388522, 0.09618669, 0.09410323,\n",
              "        0.09446497, 0.09330341, 0.09433972, 0.09397777, 0.09390664,\n",
              "        0.09383456, 0.09539733, 0.09472735, 0.09523128, 0.09436211,\n",
              "        0.0957067 , 0.09443193, 0.09444891, 0.09470057, 0.09440129,\n",
              "        0.09243024, 0.09377569, 0.09633181, 0.0950797 , 0.09422191,\n",
              "        0.0941152 , 0.09401564, 0.09480425, 0.09510411, 0.09400883,\n",
              "        0.09618229, 0.0944748 , 0.09423294, 0.0959784 , 0.09371715,\n",
              "        0.09355416, 0.09351469, 0.09547353, 0.09360413, 0.09478963,\n",
              "        0.09495266, 0.09427149, 0.09314067, 0.09536297, 0.09351442,\n",
              "        0.09470984, 0.09406422, 0.09528453, 0.09585076, 0.09618753,\n",
              "        0.09305406, 0.09462111, 0.0942688 , 0.09446443, 0.0947383 ,\n",
              "        0.09563523, 0.09401138, 0.09417993, 0.09288903, 0.0960002 ,\n",
              "        0.09353806, 0.09434013, 0.09437767, 0.09421324, 0.09266173,\n",
              "        0.09535988, 0.09283414, 0.0927635 , 0.09455911, 0.09393217,\n",
              "        0.0943677 , 0.09239431, 0.09382493, 0.09447803, 0.09480846,\n",
              "        0.09463538, 0.09470696, 0.0926299 , 0.09555364, 0.09291641,\n",
              "        0.093668  , 0.09336486, 0.09626067, 0.09400275, 0.0927916 ,\n",
              "        0.09513679, 0.09378392, 0.09402437, 0.0945137 , 0.09352678,\n",
              "        0.09382984, 0.09460641, 0.09503583, 0.09479669, 0.09426222,\n",
              "        0.09446261, 0.09327958, 0.09628711, 0.09472293, 0.09331322,\n",
              "        0.09278106, 0.09451678, 0.09472226, 0.09387394, 0.09294844,\n",
              "        0.09476895, 0.09336902, 0.09321316, 0.09490388, 0.09467324,\n",
              "        0.09502667, 0.09360721, 0.09445212, 0.09491805, 0.09338222,\n",
              "        0.0946885 , 0.09415266, 0.09423968, 0.09316797, 0.09428633,\n",
              "        0.09576986, 0.09387394, 0.09440382, 0.09443739, 0.09446091,\n",
              "        0.09356303, 0.09399655, 0.0934864 , 0.09451224, 0.09381557,\n",
              "        0.09448844, 0.09492424, 0.09534072, 0.09326169, 0.09370526,\n",
              "        0.09435616, 0.0935683 , 0.09272848, 0.09404144, 0.09512288,\n",
              "        0.09551844, 0.09437051, 0.09488056, 0.09326583, 0.0923792 ,\n",
              "        0.09407826, 0.09375623, 0.09475616, 0.09524044, 0.09511919,\n",
              "        0.09466496, 0.09417358, 0.09569987, 0.09473365, 0.09263693,\n",
              "        0.09406643, 0.09495744, 0.09455556, 0.0955303 , 0.09263941,\n",
              "        0.09548209, 0.09307148, 0.09317607, 0.09466749, 0.09436408,\n",
              "        0.09383696, 0.09536019, 0.09403073, 0.09496011, 0.0946271 ,\n",
              "        0.09445151, 0.09305546, 0.09334272, 0.0943893 , 0.0935446 ,\n",
              "        0.09589837, 0.0941529 , 0.09408142, 0.09393189, 0.09558057,\n",
              "        0.09534046, 0.09455854, 0.09510731, 0.09524504, 0.09472542,\n",
              "        0.09442774, 0.0942684 , 0.09423449, 0.09243176, 0.09449622,\n",
              "        0.09305037, 0.09502416, 0.09595344, 0.09477422, 0.09263561,\n",
              "        0.09435565, 0.09304567, 0.09433233, 0.09409819, 0.09487257,\n",
              "        0.09400925, 0.09586791, 0.09484222, 0.09518692, 0.09399006,\n",
              "        0.09375106, 0.09386848, 0.09259076, 0.09529471, 0.09399608,\n",
              "        0.09600451, 0.09464111, 0.09479844, 0.09354902, 0.09460333,\n",
              "        0.09453294, 0.09361827, 0.09531261, 0.09605548, 0.0961185 ,\n",
              "        0.0953896 , 0.09446385, 0.09329256, 0.09476914, 0.09391684,\n",
              "        0.09355953, 0.09425024, 0.09554659, 0.09345911, 0.09301833,\n",
              "        0.09430069, 0.09567667, 0.09519154, 0.09316352, 0.09631706,\n",
              "        0.09505137, 0.09303292, 0.09438767, 0.09372933, 0.09449689,\n",
              "        0.09433682, 0.09320424, 0.09426784, 0.09588016, 0.09493422,\n",
              "        0.09489729, 0.09520832, 0.09385992, 0.0945818 , 0.0941629 ,\n",
              "        0.09418172, 0.09450184, 0.09417338, 0.09314453, 0.09358275,\n",
              "        0.09461955, 0.09431559, 0.09394485, 0.09271723, 0.09508241,\n",
              "        0.09261479, 0.09267448, 0.09511292, 0.09501714, 0.09383961,\n",
              "        0.09363979, 0.09538719, 0.09405656, 0.09447473, 0.09506094,\n",
              "        0.09412115, 0.09501197, 0.09547827, 0.0945364 , 0.09356487,\n",
              "        0.09296463, 0.09601477, 0.09626408, 0.09437732, 0.09604146,\n",
              "        0.09390928, 0.0953561 , 0.09511546, 0.09417838, 0.09407503,\n",
              "        0.09424109, 0.09606299, 0.09613769, 0.09496951, 0.09280457,\n",
              "        0.09577485, 0.09433548, 0.09553063, 0.09615375, 0.09488778]),\n",
              " array([0.15999995, 0.15475631, 0.15475953, 0.16935275, 0.1549188 ,\n",
              "        0.15908982, 0.17074592, 0.17189372, 0.15485206, 0.16862919,\n",
              "        0.15449708, 0.15722074, 0.15625897, 0.16823691, 0.15930054,\n",
              "        0.16285013, 0.15510021, 0.15671468, 0.15480309, 0.16168078,\n",
              "        0.17203597, 0.15557745, 0.16002974, 0.15970609, 0.15451219,\n",
              "        0.16959042, 0.15481475, 0.15466286, 0.16745604, 0.15894672,\n",
              "        0.15475729, 0.15505585, 0.15459732, 0.15452788, 0.16264373,\n",
              "        0.15450236, 0.16841785, 0.16198544, 0.15716356, 0.15506   ,\n",
              "        0.15775241, 0.15448471, 0.15553326, 0.15452029, 0.15942692,\n",
              "        0.155013  , 0.1660009 , 0.15464063, 0.16496149, 0.15921614,\n",
              "        0.15624485, 0.17236465, 0.15448414, 0.15541506, 0.15549271,\n",
              "        0.15483421, 0.16994828, 0.15466302, 0.15511634, 0.15799171,\n",
              "        0.15743149, 0.15810649, 0.15542715, 0.1564742 , 0.17017678,\n",
              "        0.15572573, 0.15997841, 0.16023548, 0.15451392, 0.1568429 ,\n",
              "        0.15450941, 0.16273775, 0.15498085, 0.15667253, 0.17054197,\n",
              "        0.15452577, 0.15963444, 0.15634332, 0.15608664, 0.15449261,\n",
              "        0.16239022, 0.15604133, 0.16312796, 0.15465645, 0.16956173,\n",
              "        0.15805313, 0.1545158 , 0.1555107 , 0.15693605, 0.15594451,\n",
              "        0.16803646, 0.15451809, 0.15549748, 0.15458364, 0.15647868,\n",
              "        0.15640418, 0.15613677, 0.16555398, 0.15563998, 0.15580335,\n",
              "        0.1586305 , 0.16445542, 0.15461564, 0.17047845, 0.17049802,\n",
              "        0.15695753, 0.15693202, 0.17177824, 0.15518485, 0.15451286,\n",
              "        0.16762863, 0.15992401, 0.16097281, 0.16065724, 0.15599828,\n",
              "        0.15448542, 0.15521451, 0.15515799, 0.15508005, 0.15743073,\n",
              "        0.1625436 , 0.16008201, 0.15792658, 0.15614442, 0.1624804 ,\n",
              "        0.15525546, 0.15448583, 0.15448594, 0.16209778, 0.15520662,\n",
              "        0.15479628, 0.15615927, 0.15562534, 0.15459098, 0.16614212,\n",
              "        0.15644091, 0.16749262, 0.15496217, 0.16227595, 0.15513421,\n",
              "        0.15490167, 0.1549786 , 0.15750221, 0.16549438, 0.16092459,\n",
              "        0.15857806, 0.15597177, 0.15449294, 0.15794594, 0.16203435,\n",
              "        0.16147462, 0.15609058, 0.15511607, 0.15620597, 0.15473374,\n",
              "        0.1551432 , 0.171316  , 0.15451384, 0.15452574, 0.1581105 ,\n",
              "        0.15454687, 0.15479009, 0.1687799 , 0.15450643, 0.1559782 ,\n",
              "        0.15631117, 0.17211502, 0.15645003, 0.16322145, 0.1545133 ,\n",
              "        0.154517  , 0.16055716, 0.15448403, 0.17141811, 0.15591857,\n",
              "        0.15449968, 0.15659714, 0.15579477, 0.15659372, 0.15451057,\n",
              "        0.17155296, 0.16123932, 0.15571999, 0.16048733, 0.15720206,\n",
              "        0.16565064, 0.15659589, 0.15569223, 0.15533974, 0.15454937,\n",
              "        0.15569751, 0.16402374, 0.15812393, 0.16758555, 0.15612729,\n",
              "        0.15782013, 0.15454526, 0.16673227, 0.15469874, 0.15790033,\n",
              "        0.15478501, 0.15448682, 0.15501602, 0.15719039, 0.17021717,\n",
              "        0.16293655, 0.15794618, 0.15448693, 0.15573576, 0.15456611,\n",
              "        0.15804354, 0.16167506, 0.15593711, 0.15520906, 0.16336712,\n",
              "        0.15522459, 0.15613847, 0.16287498, 0.1616329 , 0.15534362,\n",
              "        0.16103924, 0.16096184, 0.15878527, 0.16639324, 0.1634192 ,\n",
              "        0.16525753, 0.1545576 , 0.15683611, 0.15452562, 0.15674221,\n",
              "        0.15448572, 0.15612369, 0.15448651, 0.15869316, 0.16276941,\n",
              "        0.15467097, 0.15495674, 0.15573758, 0.16336198, 0.16183433,\n",
              "        0.15507926, 0.17058344, 0.15905314, 0.16455805, 0.15529222,\n",
              "        0.15808795, 0.16492529, 0.15850842, 0.15659791, 0.16053351,\n",
              "        0.15550167, 0.15448403, 0.16127496, 0.15456598, 0.15654916,\n",
              "        0.15926663, 0.1554563 , 0.15646934, 0.15520124, 0.15713689,\n",
              "        0.15449273, 0.15536467, 0.16183451, 0.15466003, 0.15631695,\n",
              "        0.1552015 , 0.15876024, 0.15685161, 0.1546098 , 0.15449352,\n",
              "        0.15448773, 0.15584806, 0.15483308, 0.16360504, 0.1613864 ,\n",
              "        0.15540983, 0.15491202, 0.15497566, 0.16128525, 0.16595953,\n",
              "        0.17353863, 0.15476451, 0.15510753, 0.1563396 , 0.15476676,\n",
              "        0.15616844, 0.15690429, 0.16174656, 0.1609478 , 0.15456338,\n",
              "        0.15955056, 0.15633252, 0.15485902, 0.15470108, 0.15528797,\n",
              "        0.1574171 , 0.16837256, 0.15666161, 0.15596085, 0.17045989,\n",
              "        0.15454769, 0.1544854 , 0.15453092, 0.15653224, 0.15972609,\n",
              "        0.15856593, 0.17006771, 0.15454269, 0.15758046, 0.16405117,\n",
              "        0.15474597, 0.15782199, 0.15477505, 0.16169229, 0.15938972,\n",
              "        0.15485014, 0.15449173, 0.1546838 , 0.16740431, 0.16631114,\n",
              "        0.15454223, 0.17107329, 0.16280264, 0.15641491, 0.15583277,\n",
              "        0.15448448, 0.15881885, 0.15539416, 0.16480919, 0.1545201 ,\n",
              "        0.16059012, 0.16910925, 0.15919205, 0.15562012, 0.15461758,\n",
              "        0.16176794, 0.15688252, 0.16295247, 0.15938838, 0.15859817,\n",
              "        0.15703004, 0.16040895, 0.15822061, 0.15604195, 0.1693113 ,\n",
              "        0.15461852, 0.16117261, 0.16903065, 0.15808753, 0.16033053,\n",
              "        0.15700172, 0.15468527, 0.15462388, 0.17052241, 0.15486376,\n",
              "        0.15675117, 0.15482481, 0.16415368, 0.15868296, 0.16027725,\n",
              "        0.15892389, 0.15934012, 0.15687876, 0.15466886, 0.16258931,\n",
              "        0.15457343, 0.15665164, 0.15474021, 0.15565816, 0.16330596,\n",
              "        0.15934307, 0.15755259, 0.15513735, 0.17031531, 0.16985533,\n",
              "        0.15715707, 0.15449472, 0.15618106, 0.15564423, 0.16233832,\n",
              "        0.15634996, 0.15741936, 0.15905436, 0.15466705, 0.16585717,\n",
              "        0.1553348 , 0.15485557, 0.15448568, 0.16057716, 0.15956484,\n",
              "        0.15456862, 0.15953033, 0.15494156, 0.15632614, 0.15513334,\n",
              "        0.15468792, 0.15548847, 0.1544871 , 0.15682467, 0.17134857,\n",
              "        0.15575221, 0.15455242, 0.15929903, 0.15617464, 0.1610637 ,\n",
              "        0.16009796, 0.15653154, 0.15652679, 0.15612428, 0.15788802,\n",
              "        0.15455291, 0.16102749, 0.15470897, 0.15533622, 0.17138132,\n",
              "        0.17356832, 0.16303106, 0.16390019, 0.16792611, 0.16207307,\n",
              "        0.1547712 , 0.15977722, 0.15459486, 0.16192533, 0.15505859,\n",
              "        0.15458173, 0.15479194, 0.17199184, 0.15478189, 0.15585345,\n",
              "        0.16934565, 0.15862124, 0.16840329, 0.15853623, 0.15699137,\n",
              "        0.15647536, 0.1718338 , 0.16271616, 0.15598044, 0.16419216,\n",
              "        0.15667287, 0.15601068, 0.16687752, 0.15470418, 0.15524802,\n",
              "        0.15512348, 0.16796732, 0.16379726, 0.15702899, 0.15466182,\n",
              "        0.15851916, 0.16003112, 0.162356  , 0.15452346, 0.15541267,\n",
              "        0.15503654, 0.16411688, 0.15463603, 0.15487537, 0.15525861,\n",
              "        0.16214362, 0.15510964, 0.15451497, 0.16664978, 0.15531961,\n",
              "        0.15592527, 0.15709667, 0.16441448, 0.16655154, 0.15963658,\n",
              "        0.15449034, 0.16285461, 0.16537603, 0.1590883 , 0.16106279,\n",
              "        0.15453059, 0.15511116, 0.16744303, 0.15450187, 0.16584616,\n",
              "        0.15451555, 0.16369207, 0.1548946 , 0.15454551, 0.15636463,\n",
              "        0.15480778, 0.17010488, 0.15456691, 0.16049967, 0.16256149,\n",
              "        0.15448414, 0.15458186, 0.16442827, 0.1546082 , 0.15467176,\n",
              "        0.15470035, 0.15775364, 0.15461386, 0.16037211, 0.15482474,\n",
              "        0.16416694, 0.15815192, 0.15903036, 0.16747501, 0.15449846,\n",
              "        0.15466092, 0.15452984, 0.15877693, 0.15453532, 0.16891089,\n",
              "        0.15565875, 0.15820546, 0.15449548, 0.15451851, 0.16084275,\n",
              "        0.17172839, 0.15778112, 0.16384489, 0.15531014, 0.15944412,\n",
              "        0.16164305, 0.15821462, 0.1556534 , 0.15736266, 0.15538247,\n",
              "        0.1562192 , 0.16369436, 0.15490497, 0.15619858, 0.15564231,\n",
              "        0.15538287, 0.15890085, 0.1579122 , 0.15638215, 0.16041201,\n",
              "        0.16276301, 0.15971377, 0.15529421, 0.16303017, 0.15851904,\n",
              "        0.15595677, 0.16227483, 0.1609213 , 0.15643646, 0.15455093,\n",
              "        0.15499257, 0.15511111, 0.15803543, 0.1545267 , 0.15998414,\n",
              "        0.15862046, 0.15658358, 0.16097248, 0.1659165 , 0.16100971,\n",
              "        0.16247475, 0.15479931, 0.15874564, 0.15448687, 0.15714872,\n",
              "        0.17397176, 0.15646218, 0.15602987, 0.15628503, 0.1545783 ,\n",
              "        0.15472362, 0.15716383, 0.15503567, 0.15455427, 0.15496051,\n",
              "        0.15455985, 0.1571263 , 0.15737989, 0.15453265, 0.15502853,\n",
              "        0.15953741, 0.17045308, 0.1563173 , 0.15769846, 0.15797868,\n",
              "        0.15448436, 0.15480785, 0.15454201, 0.15460517, 0.16220961,\n",
              "        0.16403297, 0.15448439, 0.15482919, 0.15583483, 0.15807722,\n",
              "        0.15982024, 0.16399751, 0.15509333, 0.15923658, 0.16009248,\n",
              "        0.15457454, 0.15558294, 0.15472617, 0.15887708, 0.1547466 ,\n",
              "        0.15471187, 0.15721599, 0.15509197, 0.16620132, 0.15564824,\n",
              "        0.15468359, 0.15483438, 0.15452936, 0.15592626, 0.15468569,\n",
              "        0.15783331, 0.17369972, 0.1626261 , 0.16386349, 0.15764649,\n",
              "        0.15487485, 0.16405421, 0.15704818, 0.15571234, 0.16742219,\n",
              "        0.1550643 , 0.15710175, 0.16307347, 0.15518814, 0.15485061,\n",
              "        0.17072961, 0.15450088, 0.1546786 , 0.15803829, 0.15717928,\n",
              "        0.15455741, 0.16870381, 0.17218545, 0.16319333, 0.15574857,\n",
              "        0.15761976, 0.1576233 , 0.16536705, 0.15478023, 0.15988915,\n",
              "        0.16444356, 0.15789503, 0.16106902, 0.1598895 , 0.17239569,\n",
              "        0.15474955, 0.16625053, 0.15934981, 0.15716043, 0.156794  ,\n",
              "        0.15743928, 0.15854199, 0.16362082, 0.16230064, 0.15465815,\n",
              "        0.16608271, 0.16681951, 0.15451794, 0.15579142, 0.1558537 ,\n",
              "        0.1561802 , 0.15551449, 0.15448403, 0.15685113, 0.15459972,\n",
              "        0.15784   , 0.15638628, 0.15821905, 0.15463549, 0.17146607,\n",
              "        0.15543471, 0.15930497, 0.16783582, 0.15915868, 0.16055385,\n",
              "        0.1550001 , 0.16693345, 0.15698936, 0.15687928, 0.15493357,\n",
              "        0.154559  , 0.15833567, 0.15452903, 0.15451127, 0.15464333,\n",
              "        0.15590324, 0.16778875, 0.16400006, 0.16279723, 0.15485808,\n",
              "        0.15663117, 0.16398451, 0.15452847, 0.1632761 , 0.16210351,\n",
              "        0.1547948 , 0.15992713, 0.15671139, 0.16099425, 0.15736122,\n",
              "        0.1570404 , 0.15863746, 0.15863209, 0.16645862, 0.15567362,\n",
              "        0.15519001, 0.15661706, 0.1552797 , 0.17117463, 0.15465304,\n",
              "        0.1546348 , 0.15916235, 0.15449646, 0.15495743, 0.15519777,\n",
              "        0.15549106, 0.16037141, 0.15541897, 0.15876097, 0.15450995,\n",
              "        0.16400792, 0.15458344, 0.1546085 , 0.15530845, 0.15454533,\n",
              "        0.17053729, 0.15576752, 0.17367785, 0.15750738, 0.15450619,\n",
              "        0.15463201, 0.15484945, 0.15577456, 0.1576951 , 0.15486783,\n",
              "        0.17110095, 0.15465214, 0.15449953, 0.16784778, 0.15607522,\n",
              "        0.15710234, 0.15738845, 0.16119153, 0.15676096, 0.15570259,\n",
              "        0.15661971, 0.15448557, 0.16080136, 0.16001818, 0.15739041,\n",
              "        0.15534594, 0.15473129, 0.15925073, 0.16597134, 0.17118859,\n",
              "        0.16176772, 0.15502119, 0.15448607, 0.15463388, 0.15546617,\n",
              "        0.16309631, 0.15486089, 0.15454243, 0.16378471, 0.16818087,\n",
              "        0.15721731, 0.15449666, 0.15452221, 0.15451226, 0.16692649,\n",
              "        0.15998689, 0.16450539, 0.16546889, 0.15483944, 0.15510587,\n",
              "        0.15451408, 0.17113327, 0.155534  , 0.15465803, 0.15579566,\n",
              "        0.15506829, 0.15533423, 0.16739886, 0.16210758, 0.16343428,\n",
              "        0.15635867, 0.15860463, 0.17243215, 0.15488462, 0.16508078,\n",
              "        0.15795494, 0.15572691, 0.15482653, 0.15472997, 0.15729924,\n",
              "        0.15551201, 0.15497473, 0.15718395, 0.15573712, 0.1544876 ,\n",
              "        0.15463078, 0.15938769, 0.17289095, 0.15540029, 0.15907108,\n",
              "        0.16522568, 0.15473675, 0.15539745, 0.15532463, 0.16303237,\n",
              "        0.15560429, 0.15856811, 0.16004249, 0.15631899, 0.15520278,\n",
              "        0.15711864, 0.15674071, 0.15461356, 0.15640404, 0.15845323,\n",
              "        0.15526093, 0.15457518, 0.15449604, 0.1605102 , 0.15448407,\n",
              "        0.16484821, 0.15532462, 0.15454814, 0.1545912 , 0.15462792,\n",
              "        0.15704003, 0.15490213, 0.15760231, 0.15472677, 0.15557661,\n",
              "        0.15467775, 0.15644177, 0.15979495, 0.15956029, 0.15614171,\n",
              "        0.15450589, 0.15700338, 0.16596128, 0.15478383, 0.15784316,\n",
              "        0.16169837, 0.15451627, 0.15618311, 0.15952006, 0.17138666,\n",
              "        0.15470143, 0.15586619, 0.15554556, 0.15884345, 0.15781376,\n",
              "        0.15517218, 0.15454941, 0.16391893, 0.15544598, 0.1672939 ,\n",
              "        0.15472648, 0.15665044, 0.15483016, 0.16183499, 0.16725691,\n",
              "        0.16128675, 0.16156822, 0.1604251 , 0.15518146, 0.15451137,\n",
              "        0.15548049, 0.15999002, 0.15481028, 0.15666765, 0.15504072,\n",
              "        0.1546126 , 0.16175151, 0.1588017 , 0.15453291, 0.15717029,\n",
              "        0.16665647, 0.15457486, 0.15469497, 0.15510684, 0.16242772,\n",
              "        0.1597924 , 0.15483792, 0.15772011, 0.15888509, 0.1554108 ,\n",
              "        0.1545777 , 0.15448615, 0.15449868, 0.17051222, 0.15469318,\n",
              "        0.16181033, 0.15710089, 0.16747094, 0.15562899, 0.16731359,\n",
              "        0.15450556, 0.16186469, 0.15449309, 0.15466231, 0.15613774,\n",
              "        0.1548667 , 0.16621602, 0.15597095, 0.15837252, 0.15492085,\n",
              "        0.15589302, 0.1553468 , 0.1679906 , 0.15934721, 0.15490347,\n",
              "        0.16824712, 0.15508774, 0.15574573, 0.15713876, 0.15496524,\n",
              "        0.15477391, 0.15666859, 0.15951919, 0.16904134, 0.17005021,\n",
              "        0.16029103, 0.15463289, 0.15926434, 0.15560519, 0.15516028,\n",
              "        0.15706459, 0.15449146, 0.16202478, 0.1578156 , 0.16218505,\n",
              "        0.15448466, 0.16361979, 0.15841209, 0.16055718, 0.17341669,\n",
              "        0.15729646, 0.16201325, 0.15453134, 0.15600851, 0.15469453,\n",
              "        0.15449507, 0.16013342, 0.15448627, 0.1663924 , 0.15650339,\n",
              "        0.15628005, 0.15855769, 0.15538217, 0.15490162, 0.15456203,\n",
              "        0.15454053, 0.15470468, 0.15454964, 0.16075978, 0.15690421,\n",
              "        0.15501616, 0.15448741, 0.15506258, 0.16612155, 0.15752795,\n",
              "        0.16762587, 0.16673948, 0.1577642 , 0.15705154, 0.15546887,\n",
              "        0.15653165, 0.1602661 , 0.15474841, 0.15465202, 0.15736691,\n",
              "        0.15462207, 0.15701546, 0.16124425, 0.15478218, 0.15702725,\n",
              "        0.16283248, 0.16840544, 0.17249112, 0.15452191, 0.16882102,\n",
              "        0.15518797, 0.15994879, 0.15778423, 0.15454409, 0.15470814,\n",
              "        0.15449536, 0.16916003, 0.17036322, 0.15672884, 0.16490393,\n",
              "        0.16491595, 0.15449446, 0.1618388 , 0.17062725, 0.15622465]))"
            ]
          },
          "metadata": {
            "tags": []
          },
          "execution_count": 27
        }
      ]
    },
    {
      "cell_type": "code",
      "metadata": {
        "id": "gUbMW5iD3re6",
        "colab_type": "code",
        "colab": {}
      },
      "source": [
        "portfolios=pd.DataFrame({'Return':pfolio_returns  ,'Volatility':pfolio_volatilities})"
      ],
      "execution_count": 0,
      "outputs": []
    },
    {
      "cell_type": "code",
      "metadata": {
        "id": "j4pHB5ac4OqJ",
        "colab_type": "code",
        "colab": {
          "base_uri": "https://localhost:8080/",
          "height": 204
        },
        "outputId": "bdaf6535-bf3c-42c1-8748-6203667eb14c"
      },
      "source": [
        "portfolios.head()"
      ],
      "execution_count": 29,
      "outputs": [
        {
          "output_type": "execute_result",
          "data": {
            "text/html": [
              "<div>\n",
              "<style scoped>\n",
              "    .dataframe tbody tr th:only-of-type {\n",
              "        vertical-align: middle;\n",
              "    }\n",
              "\n",
              "    .dataframe tbody tr th {\n",
              "        vertical-align: top;\n",
              "    }\n",
              "\n",
              "    .dataframe thead th {\n",
              "        text-align: right;\n",
              "    }\n",
              "</style>\n",
              "<table border=\"1\" class=\"dataframe\">\n",
              "  <thead>\n",
              "    <tr style=\"text-align: right;\">\n",
              "      <th></th>\n",
              "      <th>Return</th>\n",
              "      <th>Volatility</th>\n",
              "    </tr>\n",
              "  </thead>\n",
              "  <tbody>\n",
              "    <tr>\n",
              "      <th>0</th>\n",
              "      <td>0.095361</td>\n",
              "      <td>0.160000</td>\n",
              "    </tr>\n",
              "    <tr>\n",
              "      <th>1</th>\n",
              "      <td>0.094053</td>\n",
              "      <td>0.154756</td>\n",
              "    </tr>\n",
              "    <tr>\n",
              "      <th>2</th>\n",
              "      <td>0.094052</td>\n",
              "      <td>0.154760</td>\n",
              "    </tr>\n",
              "    <tr>\n",
              "      <th>3</th>\n",
              "      <td>0.096075</td>\n",
              "      <td>0.169353</td>\n",
              "    </tr>\n",
              "    <tr>\n",
              "      <th>4</th>\n",
              "      <td>0.093991</td>\n",
              "      <td>0.154919</td>\n",
              "    </tr>\n",
              "  </tbody>\n",
              "</table>\n",
              "</div>"
            ],
            "text/plain": [
              "     Return  Volatility\n",
              "0  0.095361    0.160000\n",
              "1  0.094053    0.154756\n",
              "2  0.094052    0.154760\n",
              "3  0.096075    0.169353\n",
              "4  0.093991    0.154919"
            ]
          },
          "metadata": {
            "tags": []
          },
          "execution_count": 29
        }
      ]
    },
    {
      "cell_type": "code",
      "metadata": {
        "id": "2kBv_lEf4STz",
        "colab_type": "code",
        "colab": {
          "base_uri": "https://localhost:8080/",
          "height": 204
        },
        "outputId": "4b1dc7fc-7d44-4afb-81d1-c9df95be5bae"
      },
      "source": [
        "portfolios.tail()"
      ],
      "execution_count": 30,
      "outputs": [
        {
          "output_type": "execute_result",
          "data": {
            "text/html": [
              "<div>\n",
              "<style scoped>\n",
              "    .dataframe tbody tr th:only-of-type {\n",
              "        vertical-align: middle;\n",
              "    }\n",
              "\n",
              "    .dataframe tbody tr th {\n",
              "        vertical-align: top;\n",
              "    }\n",
              "\n",
              "    .dataframe thead th {\n",
              "        text-align: right;\n",
              "    }\n",
              "</style>\n",
              "<table border=\"1\" class=\"dataframe\">\n",
              "  <thead>\n",
              "    <tr style=\"text-align: right;\">\n",
              "      <th></th>\n",
              "      <th>Return</th>\n",
              "      <th>Volatility</th>\n",
              "    </tr>\n",
              "  </thead>\n",
              "  <tbody>\n",
              "    <tr>\n",
              "      <th>995</th>\n",
              "      <td>0.095775</td>\n",
              "      <td>0.164916</td>\n",
              "    </tr>\n",
              "    <tr>\n",
              "      <th>996</th>\n",
              "      <td>0.094335</td>\n",
              "      <td>0.154494</td>\n",
              "    </tr>\n",
              "    <tr>\n",
              "      <th>997</th>\n",
              "      <td>0.095531</td>\n",
              "      <td>0.161839</td>\n",
              "    </tr>\n",
              "    <tr>\n",
              "      <th>998</th>\n",
              "      <td>0.096154</td>\n",
              "      <td>0.170627</td>\n",
              "    </tr>\n",
              "    <tr>\n",
              "      <th>999</th>\n",
              "      <td>0.094888</td>\n",
              "      <td>0.156225</td>\n",
              "    </tr>\n",
              "  </tbody>\n",
              "</table>\n",
              "</div>"
            ],
            "text/plain": [
              "       Return  Volatility\n",
              "995  0.095775    0.164916\n",
              "996  0.094335    0.154494\n",
              "997  0.095531    0.161839\n",
              "998  0.096154    0.170627\n",
              "999  0.094888    0.156225"
            ]
          },
          "metadata": {
            "tags": []
          },
          "execution_count": 30
        }
      ]
    },
    {
      "cell_type": "code",
      "metadata": {
        "id": "WJwocyC04Wft",
        "colab_type": "code",
        "colab": {
          "base_uri": "https://localhost:8080/",
          "height": 405
        },
        "outputId": "d12cd9f9-e181-426a-e5bf-711c9850df2e"
      },
      "source": [
        "portfolios.plot(x='Volatility',y='Return',kind='scatter',figsize=(10,6))\n",
        "plt.xlabel('Expected Volatility')\n",
        "plt.ylabel('Expected Return')"
      ],
      "execution_count": 35,
      "outputs": [
        {
          "output_type": "execute_result",
          "data": {
            "text/plain": [
              "Text(0, 0.5, 'Expected Return')"
            ]
          },
          "metadata": {
            "tags": []
          },
          "execution_count": 35
        },
        {
          "output_type": "display_data",
          "data": {
            "image/png": "[encoded data removed]",
            "text/plain": [
              "<Figure size 720x432 with 1 Axes>"
            ]
          },
          "metadata": {
            "tags": [],
            "needs_background": "light"
          }
        }
      ]
    }
  ]
}